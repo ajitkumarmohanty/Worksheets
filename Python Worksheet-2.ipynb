{
 "cells": [
  {
   "cell_type": "code",
   "execution_count": 36,
   "metadata": {},
   "outputs": [
    {
     "data": {
      "text/plain": [
       "0.33333333333333215"
      ]
     },
     "execution_count": 36,
     "metadata": {},
     "output_type": "execute_result"
    }
   ],
   "source": [
    "(28//6)**3/3%3"
   ]
  },
  {
   "cell_type": "code",
   "execution_count": 37,
   "metadata": {},
   "outputs": [
    {
     "name": "stdout",
     "output_type": "stream",
     "text": [
      "String after replacing spaces insted of + : I Love Python\n"
     ]
    }
   ],
   "source": [
    "before_str=\"I+Love+Python\" \n",
    "after_replace=string.replace('+',' ')\n",
    "print(\"String after replacing spaces insted of + :\", after_replace)"
   ]
  },
  {
   "cell_type": "code",
   "execution_count": 39,
   "metadata": {},
   "outputs": [
    {
     "name": "stdout",
     "output_type": "stream",
     "text": [
      "The ASCII value of a is 97\n",
      "The ASCII value of a is 97\n",
      "The ASCII value of 6 is 54\n"
     ]
    }
   ],
   "source": [
    "print(\"The ASCII value of a is\",ord('a'))\n",
    "print(\"The ASCII value of a is\",ord('a'))\n",
    "print(\"The ASCII value of 6 is\",ord('6'))"
   ]
  },
  {
   "cell_type": "code",
   "execution_count": 40,
   "metadata": {},
   "outputs": [
    {
     "name": "stdout",
     "output_type": "stream",
     "text": [
      "Enter a: 3\n",
      "Enter b: 3\n",
      "Enter c: 3\n",
      "The solution of quadratic equation are (-0.5-0.8660254037844387j) and (-0.5+0.8660254037844387j)\n"
     ]
    }
   ],
   "source": [
    "# Python program to solve a quadratic equation of the form 𝑎𝑥² + 𝑏𝑥 + 𝑐 = 0. \n",
    "# Where a, b and c are to be taken by user input. \n",
    "# Handle the erroneous input, such as ‘a’ should not be equal to 0.\n",
    "# So, lets import complex math module  \n",
    "\n",
    "import cmath  \n",
    "a = float(input('Enter a: '))  \n",
    "b = float(input('Enter b: '))  \n",
    "c = float(input('Enter c: '))  \n",
    "  \n",
    "# calculate the discriminant  \n",
    "d = (b**2) - (4*a*c)  \n",
    "  \n",
    "# find the two solutions  \n",
    "sol1 = (-b-cmath.sqrt(d))/(2*a)  \n",
    "sol2 = (-b+cmath.sqrt(d))/(2*a)  \n",
    "print('The solution of quadratic equation are {0} and {1}'.format(sol1,sol2))   "
   ]
  },
  {
   "cell_type": "code",
   "execution_count": 41,
   "metadata": {},
   "outputs": [
    {
     "name": "stdout",
     "output_type": "stream",
     "text": [
      "Enter a number: 7\n",
      "sum of first 7.0 natural numbers is: 28.0\n"
     ]
    }
   ],
   "source": [
    "# Python program to find the sum of first ‘n’ natural numbers without using any loop.\n",
    "# Ask user to input the value of ‘n’.\n",
    "\n",
    "number = float(input('Enter a number: ')) \n",
    "sum_of_numbers=number * (number + 1) / 2\n",
    "print(\"sum of first\", number , \"natural numbers is:\",sum_of_numbers)"
   ]
  },
  {
   "cell_type": "code",
   "execution_count": null,
   "metadata": {},
   "outputs": [],
   "source": []
  },
  {
   "cell_type": "code",
   "execution_count": null,
   "metadata": {},
   "outputs": [],
   "source": []
  }
 ],
 "metadata": {
  "kernelspec": {
   "display_name": "Python 3",
   "language": "python",
   "name": "python3"
  },
  "language_info": {
   "codemirror_mode": {
    "name": "ipython",
    "version": 3
   },
   "file_extension": ".py",
   "mimetype": "text/x-python",
   "name": "python",
   "nbconvert_exporter": "python",
   "pygments_lexer": "ipython3",
   "version": "3.7.6"
  }
 },
 "nbformat": 4,
 "nbformat_minor": 4
}
